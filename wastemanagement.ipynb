{
 "cells": [
  {
   "cell_type": "code",
   "execution_count": 6,
   "id": "d5957045-00e6-4a43-b7a2-d2976861980f",
   "metadata": {},
   "outputs": [
    {
     "name": "stdout",
     "output_type": "stream",
     "text": [
      "Dataset already extracted.\n",
      "Dataset folder structure verified.\n",
      "Loading training data...\n"
     ]
    },
    {
     "name": "stderr",
     "output_type": "stream",
     "text": [
      "\n",
      "\n",
      "00%|██████████████████████████████████████████████████████████████████████████████| 9999/9999 [02:28<00:00, 67.36it/s]"
     ]
    },
    {
     "name": "stdout",
     "output_type": "stream",
     "text": [
      "Loaded 22564 images.\n",
      "DataFrame created with 22564 rows and 2 columns.\n"
     ]
    },
    {
     "data": {
      "image/png": "[encoded data removed]",
      "text/plain": [
       "<Figure size 640x480 with 1 Axes>"
      ]
     },
     "metadata": {},
     "output_type": "display_data"
    },
    {
     "name": "stdout",
     "output_type": "stream",
     "text": [
      "Visualization complete.\n"
     ]
    }
   ],
   "source": [
    "# Import necessary libraries\n",
    "import os\n",
    "import numpy as np\n",
    "import pandas as pd\n",
    "import matplotlib.pyplot as plt\n",
    "import cv2\n",
    "from tqdm import tqdm\n",
    "import warnings\n",
    "warnings.filterwarnings('ignore')\n",
    "\n",
    "# TensorFlow and Keras\n",
    "from tensorflow.keras.models import Sequential\n",
    "from tensorflow.keras.layers import Conv2D, MaxPooling2D, Activation, Dropout, Flatten, Dense, BatchNormalization\n",
    "from tensorflow.keras.preprocessing.image import ImageDataGenerator, img_to_array, load_img\n",
    "from tensorflow.keras.utils import plot_model\n",
    "from glob import glob\n",
    "import zipfile\n",
    "\n",
    "# ----------------------------\n",
    "# Step 1: Extract Dataset\n",
    "# ----------------------------\n",
    "zip_file = \"dataset.zip\"\n",
    "dataset_path = \"dataset\"\n",
    "if not os.path.exists(dataset_path):\n",
    "    if os.path.exists(zip_file):\n",
    "        print(\"Extracting dataset...\")\n",
    "        with zipfile.ZipFile(zip_file, 'r') as zip_ref:\n",
    "            zip_ref.extractall(\".\")\n",
    "        print(\"Dataset extracted successfully!\")\n",
    "    else:\n",
    "        print(f\"Error: '{zip_file}' not found!\")\n",
    "else:\n",
    "    print(\"Dataset already extracted.\")\n",
    "\n",
    "# ----------------------------\n",
    "# Step 2: Check Folder Structure\n",
    "# ----------------------------\n",
    "train_path = os.path.join(dataset_path, \"TRAIN\")\n",
    "test_path = os.path.join(dataset_path, \"TEST\")\n",
    "\n",
    "if not os.path.exists(train_path) or not os.path.exists(test_path):\n",
    "    raise FileNotFoundError(f\"Dataset folder structure is incorrect. Expected paths: {train_path}, {test_path}\")\n",
    "else:\n",
    "    print(\"Dataset folder structure verified.\")\n",
    "\n",
    "# ----------------------------\n",
    "# Step 3: Visualize Dataset\n",
    "# ----------------------------\n",
    "# Create empty lists for storing image data and labels\n",
    "x_data = []\n",
    "y_data = []\n",
    "\n",
    "print(\"Loading training data...\")\n",
    "for category in glob(train_path + \"/*\"):  # Traverse TRAIN subfolders (O and R)\n",
    "    for file in tqdm(glob(category + \"/*\")):  # Traverse each file in subfolders\n",
    "        # Read and preprocess the image\n",
    "        img_array = cv2.imread(file)\n",
    "        img_array = cv2.cvtColor(img_array, cv2.COLOR_BGR2RGB)\n",
    "        x_data.append(img_array)\n",
    "        y_data.append(category.split(os.sep)[-1])  # Label is the folder name\n",
    "\n",
    "print(f\"Loaded {len(x_data)} images.\")\n",
    "\n",
    "# ----------------------------\n",
    "# Step 4: Create DataFrame\n",
    "# ----------------------------\n",
    "# Create a DataFrame with the image data and labels\n",
    "data = pd.DataFrame({'image': x_data, \"label\": y_data})\n",
    "\n",
    "# Confirm DataFrame creation\n",
    "print(f\"DataFrame created with {data.shape[0]} rows and {data.shape[1]} columns.\")\n",
    "\n",
    "# ----------------------------\n",
    "# Step 5: Visualize Label Distribution\n",
    "# ----------------------------\n",
    "# Label distribution pie chart\n",
    "colors = [\"#a0d157\", \"#c48bb8\"]  # Custom colors\n",
    "plt.pie(\n",
    "    data.label.value_counts(),\n",
    "    labels=[\"Organic\", \"Recyclable\"],\n",
    "    autopct='%0.2f%%',\n",
    "    colors=colors,\n",
    "    startangle=90,\n",
    "    explode=[0.05, 0.05]  # Explode effect\n",
    ")\n",
    "plt.title(\"Label Distribution in Training Data\")\n",
    "plt.show()\n",
    "\n",
    "print(\"Visualization complete.\")\n"
   ]
  },
  {
   "cell_type": "code",
   "execution_count": null,
   "id": "d89aa3c0-635e-4354-abb1-a34adbaa7842",
   "metadata": {},
   "outputs": [],
   "source": []
  }
 ],
 "metadata": {
  "kernelspec": {
   "display_name": "Python (myenv)",
   "language": "python",
   "name": "myenv"
  },
  "language_info": {
   "codemirror_mode": {
    "name": "ipython",
    "version": 3
   },
   "file_extension": ".py",
   "mimetype": "text/x-python",
   "name": "python",
   "nbconvert_exporter": "python",
   "pygments_lexer": "ipython3",
   "version": "3.12.6"
  }
 },
 "nbformat": 4,
 "nbformat_minor": 5
}
